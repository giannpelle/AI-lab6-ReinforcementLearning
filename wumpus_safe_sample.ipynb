{
 "cells": [
  {
   "cell_type": "code",
   "execution_count": 1,
   "metadata": {},
   "outputs": [],
   "source": [
    "import gym\n",
    "import time\n",
    "\n",
    "from statistics import mean\n",
    "from IPython import display\n",
    "\n",
    "# Register the Wumpus world environment\n",
    "import gym_wumpus\n",
    "from gym_wumpus.envs import WumpusEnv\n",
    "\n",
    "from gym import envs, error, make\n",
    "\n",
    "from modules.hunt_wumpus_safe_qlearning_agent import HuntWumpusSafeQLearningAgent"
   ]
  },
  {
   "cell_type": "code",
   "execution_count": 2,
   "metadata": {},
   "outputs": [],
   "source": [
    "#example 1: fixed environment with a safe path to reach gold without any obstacle\n",
    "wumpus_env = gym.make(\"wumpus-v0\")"
   ]
  },
  {
   "cell_type": "code",
   "execution_count": 3,
   "metadata": {},
   "outputs": [
    {
     "name": "stdout",
     "output_type": "stream",
     "text": [
      "┌───┬───┬───┬───┬───┬───┐\n",
      "│  P│   │   │  P│   │   │\n",
      "│   │   │   │   │   │   │\n",
      "├───┼───┼───┼───┼───┼───┤\n",
      "│   │   │   │   │   │W  │\n",
      "│   │   │   │   │   │   │\n",
      "├───┼───┼───┼───┼───┼───┤\n",
      "│   │   │   │  P│  P│ G │\n",
      "│   │   │   │   │   │   │\n",
      "├───┼───┼───┼───┼───┼───┤\n",
      "│   │   │  P│   │   │   │\n",
      "│   │   │   │   │   │   │\n",
      "├───┼───┼───┼───┼───┼───┤\n",
      "│   │   │   │  P│   │  P│\n",
      "│   │   │   │   │   │   │\n",
      "├───┼───┼───┼───┼───┼───┤\n",
      "│   │   │   │   │   │   │\n",
      "│ @^│   │   │   │   │   │\n",
      "└───┴───┴───┴───┴───┴───┘\n",
      "Running episode: 0\n",
      "Running episode: 10000\n",
      "Running episode: 20000\n",
      "Running episode: 30000\n",
      "Running episode: 40000\n",
      "Running episode: 50000\n",
      "Running episode: 60000\n",
      "Running episode: 70000\n",
      "Running episode: 80000\n",
      "Running episode: 90000\n"
     ]
    }
   ],
   "source": [
    "wumpus_env.reset()\n",
    "\n",
    "wumpus_env.render('human')\n",
    "\n",
    "qlearning_agent = HuntWumpusSafeQLearningAgent(wumpus_env)\n",
    "\n",
    "q_table, train_rewards = qlearning_agent.train(episodes=100_000, alpha=0.2, gamma=0.8)"
   ]
  },
  {
   "cell_type": "code",
   "execution_count": 4,
   "metadata": {},
   "outputs": [
    {
     "name": "stdout",
     "output_type": "stream",
     "text": [
      "Training plot\n",
      "\n"
     ]
    },
    {
     "data": {
      "text/plain": [
       "<AxesSubplot:xlabel='Episode', ylabel='Total Reward'>"
      ]
     },
     "execution_count": 4,
     "metadata": {},
     "output_type": "execute_result"
    },
    {
     "data": {
      "image/png": "[encoded data removed]",
      "text/plain": [
       "<Figure size 432x288 with 1 Axes>"
      ]
     },
     "metadata": {
      "needs_background": "light"
     },
     "output_type": "display_data"
    }
   ],
   "source": [
    "from modules.utils import training_plot\n",
    "\n",
    "print(\"Training plot\")\n",
    "print(\"\")\n",
    "\n",
    "training_plot(train_rewards)"
   ]
  },
  {
   "cell_type": "code",
   "execution_count": 5,
   "metadata": {},
   "outputs": [
    {
     "name": "stdout",
     "output_type": "stream",
     "text": [
      "┌───┬───┬───┬───┬───┬───┐\n",
      "│  P│   │   │  P│   │   │\n",
      "│   │   │   │   │   │   │\n",
      "├───┼───┼───┼───┼───┼───┤\n",
      "│   │   │   │   │   │W  │\n",
      "│   │   │   │   │   │   │\n",
      "├───┼───┼───┼───┼───┼───┤\n",
      "│   │   │   │  P│  P│   │\n",
      "│   │   │   │   │   │   │\n",
      "├───┼───┼───┼───┼───┼───┤\n",
      "│   │   │  P│   │   │   │\n",
      "│   │   │   │   │   │   │\n",
      "├───┼───┼───┼───┼───┼───┤\n",
      "│   │   │   │  P│   │  P│\n",
      "│   │   │   │   │   │   │\n",
      "├───┼───┼───┼───┼───┼───┤\n",
      "│   │   │   │   │   │   │\n",
      "│ @<│   │   │   │   │   │\n",
      "└───┴───┴───┴───┴───┴───┘\n",
      "final reward: 973.0\n"
     ]
    }
   ],
   "source": [
    "reward, frames = qlearning_agent.run_episode()\n",
    "\n",
    "for frame in frames:\n",
    "    display.clear_output(wait=True)\n",
    "    print(frame)\n",
    "    time.sleep(0.1)\n",
    "    \n",
    "print(f\"final reward: {reward}\")"
   ]
  },
  {
   "cell_type": "code",
   "execution_count": null,
   "metadata": {},
   "outputs": [],
   "source": []
  },
  {
   "cell_type": "code",
   "execution_count": null,
   "metadata": {},
   "outputs": [],
   "source": []
  }
 ],
 "metadata": {
  "kernelspec": {
   "display_name": "Python 3",
   "language": "python",
   "name": "python3"
  },
  "language_info": {
   "codemirror_mode": {
    "name": "ipython",
    "version": 3
   },
   "file_extension": ".py",
   "mimetype": "text/x-python",
   "name": "python",
   "nbconvert_exporter": "python",
   "pygments_lexer": "ipython3",
   "version": "3.7.9"
  }
 },
 "nbformat": 4,
 "nbformat_minor": 4
}
